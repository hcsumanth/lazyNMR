{
  "nbformat": 4,
  "nbformat_minor": 0,
  "metadata": {
    "colab": {
      "name": "numeraieasy.ipynb",
      "version": "0.3.2",
      "provenance": [],
      "collapsed_sections": [],
      "include_colab_link": true
    },
    "kernelspec": {
      "name": "python3",
      "display_name": "Python 3"
    },
    "accelerator": "GPU"
  },
  "cells": [
    {
      "cell_type": "markdown",
      "metadata": {
        "id": "view-in-github",
        "colab_type": "text"
      },
      "source": [
        "[View in Colaboratory](https://colab.research.google.com/github/hcsumanth/lazyNMR/blob/master/numeraieasy.ipynb)"
      ]
    },
    {
      "metadata": {
        "id": "fdizCeBuHh89",
        "colab_type": "code",
        "colab": {
          "base_uri": "https://localhost:8080/",
          "height": 897
        },
        "outputId": "cb285587-d0b4-44e6-91ac-5d76cb9df25c"
      },
      "cell_type": "code",
      "source": [
        "!pip install numerox\n",
        "import numerox as nx\n",
        "import pandas as pd\n",
        "data = nx.download('numerai_dataset.zip')\n",
        "!unzip numerai_dataset.zip\n",
        "#Training Data \n",
        "train = pd.read_csv('numerai_training_data.csv', header=0)\n",
        "# To evaluate on the Model\n",
        "tournament = pd.read_csv('numerai_tournament_data.csv', header=0)"
      ],
      "execution_count": 1,
      "outputs": [
        {
          "output_type": "stream",
          "text": [
            "Collecting numerox\n",
            "\u001b[?25l  Downloading https://files.pythonhosted.org/packages/69/d4/9e902b7b7ca51e79b18dcfdc499a480d885a1417a64219aedbb2f8be7791/numerox-3.3.0.tar.gz (1.4MB)\n",
            "\u001b[K    100% |████████████████████████████████| 1.4MB 8.4MB/s \n",
            "\u001b[?25hRequirement already satisfied: numpy in /usr/local/lib/python3.6/dist-packages (from numerox) (1.14.6)\n",
            "Requirement already satisfied: scipy in /usr/local/lib/python3.6/dist-packages (from numerox) (0.19.1)\n",
            "Requirement already satisfied: pandas in /usr/local/lib/python3.6/dist-packages (from numerox) (0.22.0)\n",
            "Collecting tables (from numerox)\n",
            "\u001b[?25l  Downloading https://files.pythonhosted.org/packages/d7/1b/21f4c7f296b718575c17ef25e61c05742a283c45077b4c8d5a190b3e0b59/tables-3.4.4-cp36-cp36m-manylinux1_x86_64.whl (3.8MB)\n",
            "\u001b[K    100% |████████████████████████████████| 3.8MB 8.3MB/s \n",
            "\u001b[?25hRequirement already satisfied: scikit-learn in /usr/local/lib/python3.6/dist-packages (from numerox) (0.19.2)\n",
            "Collecting numerapi (from numerox)\n",
            "  Downloading https://files.pythonhosted.org/packages/98/85/8861a07f0cb4ce3a4a8474b64370cde3767658b7cc92c7f52c0e5e896201/numerapi-1.3.0.tar.gz\n",
            "Collecting nose (from numerox)\n",
            "\u001b[?25l  Downloading https://files.pythonhosted.org/packages/15/d8/dd071918c040f50fa1cf80da16423af51ff8ce4a0f2399b7bf8de45ac3d9/nose-1.3.7-py3-none-any.whl (154kB)\n",
            "\u001b[K    100% |████████████████████████████████| 163kB 22.2MB/s \n",
            "\u001b[?25hRequirement already satisfied: pytz>=2011k in /usr/local/lib/python3.6/dist-packages (from pandas->numerox) (2018.6)\n",
            "Requirement already satisfied: python-dateutil>=2 in /usr/local/lib/python3.6/dist-packages (from pandas->numerox) (2.5.3)\n",
            "Collecting numexpr>=2.5.2 (from tables->numerox)\n",
            "\u001b[?25l  Downloading https://files.pythonhosted.org/packages/db/ea/efd9e16283637eb5b6c0042b6cc3521f1b9a5b47767ac463c88bbd37670c/numexpr-2.6.8-cp36-cp36m-manylinux1_x86_64.whl (162kB)\n",
            "\u001b[K    100% |████████████████████████████████| 163kB 13.5MB/s \n",
            "\u001b[?25hRequirement already satisfied: six>=1.9.0 in /usr/local/lib/python3.6/dist-packages (from tables->numerox) (1.11.0)\n",
            "Requirement already satisfied: requests in /usr/local/lib/python3.6/dist-packages (from numerapi->numerox) (2.18.4)\n",
            "Requirement already satisfied: tqdm in /usr/local/lib/python3.6/dist-packages (from numerapi->numerox) (4.28.1)\n",
            "Collecting click (from numerapi->numerox)\n",
            "\u001b[?25l  Downloading https://files.pythonhosted.org/packages/fa/37/45185cb5abbc30d7257104c434fe0b07e5a195a6847506c074527aa599ec/Click-7.0-py2.py3-none-any.whl (81kB)\n",
            "\u001b[K    100% |████████████████████████████████| 81kB 23.6MB/s \n",
            "\u001b[?25hRequirement already satisfied: idna<2.7,>=2.5 in /usr/local/lib/python3.6/dist-packages (from requests->numerapi->numerox) (2.6)\n",
            "Requirement already satisfied: urllib3<1.23,>=1.21.1 in /usr/local/lib/python3.6/dist-packages (from requests->numerapi->numerox) (1.22)\n",
            "Requirement already satisfied: certifi>=2017.4.17 in /usr/local/lib/python3.6/dist-packages (from requests->numerapi->numerox) (2018.10.15)\n",
            "Requirement already satisfied: chardet<3.1.0,>=3.0.2 in /usr/local/lib/python3.6/dist-packages (from requests->numerapi->numerox) (3.0.4)\n",
            "Building wheels for collected packages: numerox, numerapi\n",
            "  Running setup.py bdist_wheel for numerox ... \u001b[?25l-\b \b\\\b \b|\b \bdone\n",
            "\u001b[?25h  Stored in directory: /root/.cache/pip/wheels/79/28/63/9d265ae6af1c9831386f791277bfd8878c94a24a838f72e254\n",
            "  Running setup.py bdist_wheel for numerapi ... \u001b[?25l-\b \b\\\b \bdone\n",
            "\u001b[?25h  Stored in directory: /root/.cache/pip/wheels/1a/63/f2/fb66f8f21263d54d0cf261c9819160dd9852b7670203201a79\n",
            "Successfully built numerox numerapi\n",
            "Installing collected packages: numexpr, tables, click, numerapi, nose, numerox\n",
            "Successfully installed click-7.0 nose-1.3.7 numerapi-1.3.0 numerox-3.3.0 numexpr-2.6.8 tables-3.4.4\n"
          ],
          "name": "stdout"
        },
        {
          "output_type": "stream",
          "text": [
            "numerai_dataset.zip: 116MB [00:04, 24.6MB/s]                           \n"
          ],
          "name": "stderr"
        },
        {
          "output_type": "stream",
          "text": [
            "Archive:  numerai_dataset.zip\n",
            "  inflating: example_predictions_target_elizabeth.csv  \n",
            "  inflating: example_predictions_target_jordan.csv  \n",
            "  inflating: example_predictions_target_charles.csv  \n",
            "  inflating: numerai_training_data.csv  \n",
            "  inflating: example_predictions_target_bernie.csv  \n",
            "  inflating: example_model.r         \n",
            "  inflating: example_predictions_target_ken.csv  \n",
            "  inflating: numerai_tournament_data.csv  \n",
            "  inflating: example_model.py        \n",
            "  inflating: numerox_example.py      \n"
          ],
          "name": "stdout"
        }
      ]
    },
    {
      "metadata": {
        "id": "yZymWGHXL3S0",
        "colab_type": "code",
        "colab": {}
      },
      "cell_type": "code",
      "source": [
        "\n",
        "validation_data = tournament[tournament.data_type=='validation']\n",
        "complete_training_data = pd.concat([train, validation_data])\n"
      ],
      "execution_count": 0,
      "outputs": []
    },
    {
      "metadata": {
        "id": "CvgLpPBP083A",
        "colab_type": "code",
        "colab": {}
      },
      "cell_type": "code",
      "source": [
        "features = [f for f in list(train) if 'feature' in f]  # taking only columns with feature\n",
        "X = complete_training_data[features]\n",
        "Y = complete_training_data[\"target_bernie\"]"
      ],
      "execution_count": 0,
      "outputs": []
    },
    {
      "metadata": {
        "id": "czR2n5Ig086X",
        "colab_type": "code",
        "colab": {
          "base_uri": "https://localhost:8080/",
          "height": 52
        },
        "outputId": "0bead8b0-dc25-4e2c-b8b1-838024af8a09"
      },
      "cell_type": "code",
      "source": [
        "\n",
        "import numpy\n",
        "from sklearn.model_selection import GridSearchCV\n",
        "from sklearn.model_selection import cross_val_score\n",
        "from sklearn.model_selection import GroupKFold\n",
        "from keras.models import Sequential\n",
        "from keras.layers import Dense, BatchNormalization, Dropout, Activation\n",
        "from keras.wrappers.scikit_learn import KerasClassifier\n",
        "\n",
        "def create_model(neurons=2000, dropout=0.2):\n",
        "    model = Sequential()\n",
        "    model.add(Dense(neurons, input_shape=(50,), kernel_initializer='glorot_uniform', use_bias=False))\n",
        "    model.add(BatchNormalization())\n",
        "    model.add(Dropout(dropout))\n",
        "    model.add(Activation('relu'))\n",
        "    model.add(Dense(1, activation='sigmoid', kernel_initializer='glorot_normal'))\n",
        "    model.compile(loss='binary_crossentropy', optimizer='adam', metrics=['binary_crossentropy', 'accuracy'])\n",
        "    return model\n",
        "\n",
        "model = KerasClassifier(build_fn=create_model, epochs=8, batch_size=128, verbose=0)\n",
        "\n",
        "neurons = [10, 14]\n",
        "dropout = [0.01, 0.26]\n",
        "param_grid = dict(neurons=neurons, dropout=dropout)\n",
        "\n",
        "gkf = GroupKFold(n_splits=5)\n",
        "kfold_split = gkf.split(X, Y, groups=complete_training_data.era)\n",
        "\n",
        "grid = GridSearchCV(estimator=model, param_grid=param_grid, cv=kfold_split, scoring='neg_log_loss',n_jobs=1, verbose=1)\n",
        "grid_result = grid.fit(X.values, Y.values)\n",
        "\n",
        "print(\"Best: %f using %s\" % (grid_result.best_score_, grid_result.best_params_))\n",
        "means = grid_result.cv_results_['mean_test_score']\n",
        "stds = grid_result.cv_results_['std_test_score']\n",
        "params = grid_result.cv_results_['params']\n",
        "for mean, stdev, param in zip(means, stds, params):\n",
        "    print(\"%f (%f) with: %r\" % (mean, stdev, param))"
      ],
      "execution_count": 0,
      "outputs": [
        {
          "output_type": "stream",
          "text": [
            "Using TensorFlow backend.\n"
          ],
          "name": "stderr"
        },
        {
          "output_type": "stream",
          "text": [
            "Fitting 5 folds for each of 4 candidates, totalling 20 fits\n"
          ],
          "name": "stdout"
        }
      ]
    },
    {
      "metadata": {
        "id": "myCYAzey08-F",
        "colab_type": "code",
        "colab": {}
      },
      "cell_type": "code",
      "source": [
        "!ls"
      ],
      "execution_count": 0,
      "outputs": []
    },
    {
      "metadata": {
        "id": "EMtYuFwNyT8d",
        "colab_type": "code",
        "colab": {}
      },
      "cell_type": "code",
      "source": [
        "from google.colab import files\n",
        "files.download('example.txt') "
      ],
      "execution_count": 0,
      "outputs": []
    },
    {
      "metadata": {
        "id": "47FFB9B2yBYn",
        "colab_type": "code",
        "colab": {
          "base_uri": "https://localhost:8080/",
          "height": 34
        },
        "outputId": "33a01c1d-621f-4043-c7b3-cc3122d6a110"
      },
      "cell_type": "code",
      "source": [
        "complete_training_data.shape"
      ],
      "execution_count": 44,
      "outputs": [
        {
          "output_type": "execute_result",
          "data": {
            "text/plain": [
              "(439975, 58)"
            ]
          },
          "metadata": {
            "tags": []
          },
          "execution_count": 44
        }
      ]
    },
    {
      "metadata": {
        "id": "AEo6zUegyBb8",
        "colab_type": "code",
        "colab": {}
      },
      "cell_type": "code",
      "source": [
        ""
      ],
      "execution_count": 0,
      "outputs": []
    },
    {
      "metadata": {
        "id": "Pzp4iL6NyBWf",
        "colab_type": "code",
        "colab": {}
      },
      "cell_type": "code",
      "source": [
        ""
      ],
      "execution_count": 0,
      "outputs": []
    },
    {
      "metadata": {
        "id": "j2zmx2mOL3Wf",
        "colab_type": "code",
        "colab": {}
      },
      "cell_type": "code",
      "source": [
        "\n",
        "# Validation Data for local validation \n",
        "validation = tournament[tournament['data_type']=='validation']\n",
        "# Using ERAS kind of an encrypted timestamp.\n",
        "training_eras = train[train.data_type == 'train'].copy()\n",
        "eras = [e for e in training_eras.era.unique()]\n"
      ],
      "execution_count": 0,
      "outputs": []
    },
    {
      "metadata": {
        "id": "QTa6091UL3br",
        "colab_type": "code",
        "colab": {}
      },
      "cell_type": "code",
      "source": [
        ""
      ],
      "execution_count": 0,
      "outputs": []
    },
    {
      "metadata": {
        "id": "chGpa9ewXCUl",
        "colab_type": "code",
        "colab": {}
      },
      "cell_type": "code",
      "source": [
        "iter_eras = eras.copy()"
      ],
      "execution_count": 0,
      "outputs": []
    },
    {
      "metadata": {
        "id": "0AIlKFXbvaUu",
        "colab_type": "code",
        "colab": {
          "base_uri": "https://localhost:8080/",
          "height": 2129
        },
        "outputId": "bddf7468-0df1-4e78-f615-0207be4f8e67"
      },
      "cell_type": "code",
      "source": [
        "iter_eras"
      ],
      "execution_count": 32,
      "outputs": [
        {
          "output_type": "execute_result",
          "data": {
            "text/plain": [
              "['era1',\n",
              " 'era2',\n",
              " 'era3',\n",
              " 'era4',\n",
              " 'era5',\n",
              " 'era6',\n",
              " 'era7',\n",
              " 'era8',\n",
              " 'era9',\n",
              " 'era10',\n",
              " 'era11',\n",
              " 'era12',\n",
              " 'era13',\n",
              " 'era14',\n",
              " 'era15',\n",
              " 'era16',\n",
              " 'era17',\n",
              " 'era18',\n",
              " 'era19',\n",
              " 'era20',\n",
              " 'era21',\n",
              " 'era22',\n",
              " 'era23',\n",
              " 'era24',\n",
              " 'era25',\n",
              " 'era26',\n",
              " 'era27',\n",
              " 'era28',\n",
              " 'era29',\n",
              " 'era30',\n",
              " 'era31',\n",
              " 'era32',\n",
              " 'era33',\n",
              " 'era34',\n",
              " 'era35',\n",
              " 'era36',\n",
              " 'era37',\n",
              " 'era38',\n",
              " 'era39',\n",
              " 'era40',\n",
              " 'era41',\n",
              " 'era42',\n",
              " 'era43',\n",
              " 'era44',\n",
              " 'era45',\n",
              " 'era46',\n",
              " 'era47',\n",
              " 'era48',\n",
              " 'era49',\n",
              " 'era50',\n",
              " 'era51',\n",
              " 'era52',\n",
              " 'era53',\n",
              " 'era54',\n",
              " 'era55',\n",
              " 'era56',\n",
              " 'era57',\n",
              " 'era58',\n",
              " 'era59',\n",
              " 'era60',\n",
              " 'era61',\n",
              " 'era62',\n",
              " 'era63',\n",
              " 'era64',\n",
              " 'era65',\n",
              " 'era66',\n",
              " 'era67',\n",
              " 'era68',\n",
              " 'era69',\n",
              " 'era70',\n",
              " 'era71',\n",
              " 'era72',\n",
              " 'era73',\n",
              " 'era74',\n",
              " 'era75',\n",
              " 'era76',\n",
              " 'era77',\n",
              " 'era78',\n",
              " 'era79',\n",
              " 'era80',\n",
              " 'era81',\n",
              " 'era82',\n",
              " 'era83',\n",
              " 'era84',\n",
              " 'era85',\n",
              " 'era86',\n",
              " 'era87',\n",
              " 'era88',\n",
              " 'era89',\n",
              " 'era90',\n",
              " 'era91',\n",
              " 'era92',\n",
              " 'era93',\n",
              " 'era94',\n",
              " 'era95',\n",
              " 'era96',\n",
              " 'era97',\n",
              " 'era98',\n",
              " 'era99',\n",
              " 'era100',\n",
              " 'era101',\n",
              " 'era102',\n",
              " 'era103',\n",
              " 'era104',\n",
              " 'era105',\n",
              " 'era106',\n",
              " 'era107',\n",
              " 'era108',\n",
              " 'era109',\n",
              " 'era110',\n",
              " 'era111',\n",
              " 'era112',\n",
              " 'era113',\n",
              " 'era114',\n",
              " 'era115',\n",
              " 'era116',\n",
              " 'era117',\n",
              " 'era118',\n",
              " 'era119',\n",
              " 'era120']"
            ]
          },
          "metadata": {
            "tags": []
          },
          "execution_count": 32
        }
      ]
    },
    {
      "metadata": {
        "id": "rE1WA-oRXCYr",
        "colab_type": "code",
        "colab": {}
      },
      "cell_type": "code",
      "source": [
        "def bernie_training():\n",
        "  \n",
        "  # Here we select the bernie_target.\n",
        "    train_bernie = train.drop([\n",
        "        'id', 'era', 'data_type',\n",
        "        'target_charles', 'target_elizabeth',\n",
        "        'target_jordan', 'target_ken'], axis=1)\n",
        "    \n",
        "    # Transform the loaded CSV data into numpy arrays\n",
        "    features = [f for f in list(train_bernie) if \"feature\" in f]\n",
        "    X = train_bernie[features]\n",
        "    Y = train_bernie['target_bernie']\n",
        "    x_prediction = validation[features]\n",
        "    ids = tournament['id']\n",
        "    \n",
        "    "
      ],
      "execution_count": 0,
      "outputs": []
    },
    {
      "metadata": {
        "id": "Tl-746BVXCcB",
        "colab_type": "code",
        "colab": {}
      },
      "cell_type": "code",
      "source": [
        ""
      ],
      "execution_count": 0,
      "outputs": []
    },
    {
      "metadata": {
        "id": "uzrXxEV_L3eq",
        "colab_type": "code",
        "colab": {
          "base_uri": "https://localhost:8080/",
          "height": 34
        },
        "outputId": "f7e8a07d-bee8-48a1-f40c-044b758db696"
      },
      "cell_type": "code",
      "source": [
        "\n"
      ],
      "execution_count": 6,
      "outputs": [
        {
          "output_type": "stream",
          "text": [
            "numerai_dataset.zip: 116MB [00:02, 48.5MB/s]                           \n"
          ],
          "name": "stderr"
        }
      ]
    },
    {
      "metadata": {
        "id": "wQPGxVhiL3h8",
        "colab_type": "code",
        "colab": {
          "base_uri": "https://localhost:8080/",
          "height": 34
        },
        "outputId": "e5756fdd-0c99-4d51-a74f-74ca1a80e3de"
      },
      "cell_type": "code",
      "source": [
        "type(data)"
      ],
      "execution_count": 17,
      "outputs": [
        {
          "output_type": "execute_result",
          "data": {
            "text/plain": [
              "numerox.data.Data"
            ]
          },
          "metadata": {
            "tags": []
          },
          "execution_count": 17
        }
      ]
    },
    {
      "metadata": {
        "id": "7cFZ9HpkL3Z4",
        "colab_type": "code",
        "colab": {
          "base_uri": "https://localhost:8080/",
          "height": 210
        },
        "outputId": "1ad8ad3c-86da-47da-9970-725c4c80f768"
      },
      "cell_type": "code",
      "source": [
        ""
      ],
      "execution_count": 19,
      "outputs": [
        {
          "output_type": "stream",
          "text": [
            "Archive:  numerai_dataset.zip\n",
            "  inflating: example_predictions_target_elizabeth.csv  \n",
            "  inflating: example_predictions_target_jordan.csv  \n",
            "  inflating: example_predictions_target_charles.csv  \n",
            "  inflating: numerai_training_data.csv  \n",
            "  inflating: example_predictions_target_bernie.csv  \n",
            "  inflating: example_model.r         \n",
            "  inflating: example_predictions_target_ken.csv  \n",
            "  inflating: numerai_tournament_data.csv  \n",
            "  inflating: example_model.py        \n",
            "  inflating: numerox_example.py      \n"
          ],
          "name": "stdout"
        }
      ]
    },
    {
      "metadata": {
        "id": "ui3kB9H8JEN0",
        "colab_type": "code",
        "colab": {
          "base_uri": "https://localhost:8080/",
          "height": 34
        },
        "outputId": "86697173-1137-45f6-df09-18ebc9c186cd"
      },
      "cell_type": "code",
      "source": [
        "!ls"
      ],
      "execution_count": 18,
      "outputs": [
        {
          "output_type": "stream",
          "text": [
            "logistic.csv  numerai_dataset.zip  sample_data\n"
          ],
          "name": "stdout"
        }
      ]
    }
  ]
}